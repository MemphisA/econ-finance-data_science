{
  "nbformat": 4,
  "nbformat_minor": 0,
  "metadata": {
    "colab": {
      "name": "OLS Regression Industrial Production: Total Index ",
      "provenance": [],
      "authorship_tag": "ABX9TyPc7oEK5bhUtp2FpfaIPTCz",
      "include_colab_link": true
    },
    "kernelspec": {
      "name": "python3",
      "display_name": "Python 3"
    },
    "language_info": {
      "name": "python"
    }
  },
  "cells": [
    {
      "cell_type": "markdown",
      "metadata": {
        "id": "view-in-github",
        "colab_type": "text"
      },
      "source": [
        "<a href=\"https://colab.research.google.com/github/MemphisA/econ-finance-data_science/blob/master/OLS_Regression_Industrial_Production_Total_Index.ipynb\" target=\"_parent\"><img src=\"https://colab.research.google.com/assets/colab-badge.svg\" alt=\"Open In Colab\"/></a>"
      ]
    },
    {
      "cell_type": "code",
      "metadata": {
        "id": "qRS_nOV52C87"
      },
      "source": [
        "import pandas as pd \n",
        "import numpy as np\n",
        "import matplotlib.pyplot as plt\n",
        "from pandas_datareader import data as web\n"
      ],
      "execution_count": 31,
      "outputs": []
    },
    {
      "cell_type": "code",
      "metadata": {
        "id": "AvYBjaryLX2y"
      },
      "source": [
        "data = web.get_data_fred(['UNRATE','FEDFUNDS','INDPRO'])"
      ],
      "execution_count": 32,
      "outputs": []
    },
    {
      "cell_type": "code",
      "metadata": {
        "colab": {
          "base_uri": "https://localhost:8080/",
          "height": 297
        },
        "id": "iWyZ3qHoCqYa",
        "outputId": "e000dd06-5d87-47da-a33b-eb1cd8c5b932"
      },
      "source": [
        "data.describe()"
      ],
      "execution_count": 33,
      "outputs": [
        {
          "output_type": "execute_result",
          "data": {
            "text/html": [
              "<div>\n",
              "<style scoped>\n",
              "    .dataframe tbody tr th:only-of-type {\n",
              "        vertical-align: middle;\n",
              "    }\n",
              "\n",
              "    .dataframe tbody tr th {\n",
              "        vertical-align: top;\n",
              "    }\n",
              "\n",
              "    .dataframe thead th {\n",
              "        text-align: right;\n",
              "    }\n",
              "</style>\n",
              "<table border=\"1\" class=\"dataframe\">\n",
              "  <thead>\n",
              "    <tr style=\"text-align: right;\">\n",
              "      <th></th>\n",
              "      <th>UNRATE</th>\n",
              "      <th>FEDFUNDS</th>\n",
              "      <th>INDPRO</th>\n",
              "    </tr>\n",
              "  </thead>\n",
              "  <tbody>\n",
              "    <tr>\n",
              "      <th>count</th>\n",
              "      <td>59.000000</td>\n",
              "      <td>59.000000</td>\n",
              "      <td>59.000000</td>\n",
              "    </tr>\n",
              "    <tr>\n",
              "      <th>mean</th>\n",
              "      <td>5.066102</td>\n",
              "      <td>1.146441</td>\n",
              "      <td>105.654207</td>\n",
              "    </tr>\n",
              "    <tr>\n",
              "      <th>std</th>\n",
              "      <td>2.310143</td>\n",
              "      <td>0.831008</td>\n",
              "      <td>4.036646</td>\n",
              "    </tr>\n",
              "    <tr>\n",
              "      <th>min</th>\n",
              "      <td>3.500000</td>\n",
              "      <td>0.050000</td>\n",
              "      <td>91.265800</td>\n",
              "    </tr>\n",
              "    <tr>\n",
              "      <th>25%</th>\n",
              "      <td>3.800000</td>\n",
              "      <td>0.395000</td>\n",
              "      <td>103.074650</td>\n",
              "    </tr>\n",
              "    <tr>\n",
              "      <th>50%</th>\n",
              "      <td>4.200000</td>\n",
              "      <td>1.150000</td>\n",
              "      <td>106.193000</td>\n",
              "    </tr>\n",
              "    <tr>\n",
              "      <th>75%</th>\n",
              "      <td>4.900000</td>\n",
              "      <td>1.870000</td>\n",
              "      <td>109.205450</td>\n",
              "    </tr>\n",
              "    <tr>\n",
              "      <th>max</th>\n",
              "      <td>14.800000</td>\n",
              "      <td>2.420000</td>\n",
              "      <td>110.551600</td>\n",
              "    </tr>\n",
              "  </tbody>\n",
              "</table>\n",
              "</div>"
            ],
            "text/plain": [
              "          UNRATE   FEDFUNDS      INDPRO\n",
              "count  59.000000  59.000000   59.000000\n",
              "mean    5.066102   1.146441  105.654207\n",
              "std     2.310143   0.831008    4.036646\n",
              "min     3.500000   0.050000   91.265800\n",
              "25%     3.800000   0.395000  103.074650\n",
              "50%     4.200000   1.150000  106.193000\n",
              "75%     4.900000   1.870000  109.205450\n",
              "max    14.800000   2.420000  110.551600"
            ]
          },
          "metadata": {
            "tags": []
          },
          "execution_count": 33
        }
      ]
    },
    {
      "cell_type": "code",
      "metadata": {
        "colab": {
          "base_uri": "https://localhost:8080/",
          "height": 235
        },
        "id": "GI6w7WH9-Fbk",
        "outputId": "380e2bd2-7891-4a57-c03d-42c0f9ab5fd2"
      },
      "source": [
        "data.head()"
      ],
      "execution_count": 34,
      "outputs": [
        {
          "output_type": "execute_result",
          "data": {
            "text/html": [
              "<div>\n",
              "<style scoped>\n",
              "    .dataframe tbody tr th:only-of-type {\n",
              "        vertical-align: middle;\n",
              "    }\n",
              "\n",
              "    .dataframe tbody tr th {\n",
              "        vertical-align: top;\n",
              "    }\n",
              "\n",
              "    .dataframe thead th {\n",
              "        text-align: right;\n",
              "    }\n",
              "</style>\n",
              "<table border=\"1\" class=\"dataframe\">\n",
              "  <thead>\n",
              "    <tr style=\"text-align: right;\">\n",
              "      <th></th>\n",
              "      <th>UNRATE</th>\n",
              "      <th>FEDFUNDS</th>\n",
              "      <th>INDPRO</th>\n",
              "    </tr>\n",
              "    <tr>\n",
              "      <th>DATE</th>\n",
              "      <th></th>\n",
              "      <th></th>\n",
              "      <th></th>\n",
              "    </tr>\n",
              "  </thead>\n",
              "  <tbody>\n",
              "    <tr>\n",
              "      <th>2016-06-01</th>\n",
              "      <td>4.9</td>\n",
              "      <td>0.38</td>\n",
              "      <td>101.8747</td>\n",
              "    </tr>\n",
              "    <tr>\n",
              "      <th>2016-07-01</th>\n",
              "      <td>4.8</td>\n",
              "      <td>0.39</td>\n",
              "      <td>102.1325</td>\n",
              "    </tr>\n",
              "    <tr>\n",
              "      <th>2016-08-01</th>\n",
              "      <td>4.9</td>\n",
              "      <td>0.40</td>\n",
              "      <td>102.0407</td>\n",
              "    </tr>\n",
              "    <tr>\n",
              "      <th>2016-09-01</th>\n",
              "      <td>5.0</td>\n",
              "      <td>0.40</td>\n",
              "      <td>102.0477</td>\n",
              "    </tr>\n",
              "    <tr>\n",
              "      <th>2016-10-01</th>\n",
              "      <td>4.9</td>\n",
              "      <td>0.40</td>\n",
              "      <td>102.2485</td>\n",
              "    </tr>\n",
              "  </tbody>\n",
              "</table>\n",
              "</div>"
            ],
            "text/plain": [
              "            UNRATE  FEDFUNDS    INDPRO\n",
              "DATE                                  \n",
              "2016-06-01     4.9      0.38  101.8747\n",
              "2016-07-01     4.8      0.39  102.1325\n",
              "2016-08-01     4.9      0.40  102.0407\n",
              "2016-09-01     5.0      0.40  102.0477\n",
              "2016-10-01     4.9      0.40  102.2485"
            ]
          },
          "metadata": {
            "tags": []
          },
          "execution_count": 34
        }
      ]
    },
    {
      "cell_type": "code",
      "metadata": {
        "colab": {
          "base_uri": "https://localhost:8080/"
        },
        "id": "ywC4iAp-fcdi",
        "outputId": "66c9417f-9c3e-472a-96a8-83008a7e0050"
      },
      "source": [
        "data.info()"
      ],
      "execution_count": 35,
      "outputs": [
        {
          "output_type": "stream",
          "text": [
            "<class 'pandas.core.frame.DataFrame'>\n",
            "DatetimeIndex: 59 entries, 2016-06-01 to 2021-04-01\n",
            "Data columns (total 3 columns):\n",
            " #   Column    Non-Null Count  Dtype  \n",
            "---  ------    --------------  -----  \n",
            " 0   UNRATE    59 non-null     float64\n",
            " 1   FEDFUNDS  59 non-null     float64\n",
            " 2   INDPRO    59 non-null     float64\n",
            "dtypes: float64(3)\n",
            "memory usage: 1.8 KB\n"
          ],
          "name": "stdout"
        }
      ]
    },
    {
      "cell_type": "code",
      "metadata": {
        "colab": {
          "base_uri": "https://localhost:8080/",
          "height": 279
        },
        "id": "3hVRuvtHf06M",
        "outputId": "41318869-bb63-4158-90f1-3f898c2ccd82"
      },
      "source": [
        "plt.scatter(data.UNRATE,data.INDPRO)\n",
        "plt.xlabel('UNRATE')\n",
        "plt.ylabel('INDPRO')\n",
        "plt.show()"
      ],
      "execution_count": 36,
      "outputs": [
        {
          "output_type": "display_data",
          "data": {
            "image/png": "[encoded data removed]",
            "text/plain": [
              "<Figure size 432x288 with 1 Axes>"
            ]
          },
          "metadata": {
            "tags": [],
            "needs_background": "light"
          }
        }
      ]
    },
    {
      "cell_type": "code",
      "metadata": {
        "colab": {
          "base_uri": "https://localhost:8080/",
          "height": 279
        },
        "id": "umOODw_sh-FX",
        "outputId": "57001857-1796-4427-b0c3-fc913c962d2d"
      },
      "source": [
        "plt.scatter(data.FEDFUNDS,data.INDPRO)\n",
        "plt.xlabel('FEDFUNDS')\n",
        "plt.ylabel('INDPRO')\n",
        "plt.show()"
      ],
      "execution_count": 37,
      "outputs": [
        {
          "output_type": "display_data",
          "data": {
            "image/png": "[encoded data removed]",
            "text/plain": [
              "<Figure size 432x288 with 1 Axes>"
            ]
          },
          "metadata": {
            "tags": [],
            "needs_background": "light"
          }
        }
      ]
    },
    {
      "cell_type": "code",
      "metadata": {
        "colab": {
          "base_uri": "https://localhost:8080/",
          "height": 265
        },
        "id": "NGDDs3VUi65Z",
        "outputId": "2d93bbdf-f217-4c08-9987-0bbf5f2bdd95"
      },
      "source": [
        "plt.scatter(data.UNRATE,data.INDPRO)\n",
        "plt.scatter(data.FEDFUNDS,data.INDPRO)\n",
        "plt.show()"
      ],
      "execution_count": 38,
      "outputs": [
        {
          "output_type": "display_data",
          "data": {
            "image/png": "[encoded data removed]",
            "text/plain": [
              "<Figure size 432x288 with 1 Axes>"
            ]
          },
          "metadata": {
            "tags": [],
            "needs_background": "light"
          }
        }
      ]
    },
    {
      "cell_type": "code",
      "metadata": {
        "colab": {
          "base_uri": "https://localhost:8080/",
          "height": 142
        },
        "id": "LKjDrHa2iXms",
        "outputId": "12684fb0-38df-4a40-8d0d-88a5c26da1cc"
      },
      "source": [
        "data.corr()"
      ],
      "execution_count": 39,
      "outputs": [
        {
          "output_type": "execute_result",
          "data": {
            "text/html": [
              "<div>\n",
              "<style scoped>\n",
              "    .dataframe tbody tr th:only-of-type {\n",
              "        vertical-align: middle;\n",
              "    }\n",
              "\n",
              "    .dataframe tbody tr th {\n",
              "        vertical-align: top;\n",
              "    }\n",
              "\n",
              "    .dataframe thead th {\n",
              "        text-align: right;\n",
              "    }\n",
              "</style>\n",
              "<table border=\"1\" class=\"dataframe\">\n",
              "  <thead>\n",
              "    <tr style=\"text-align: right;\">\n",
              "      <th></th>\n",
              "      <th>UNRATE</th>\n",
              "      <th>FEDFUNDS</th>\n",
              "      <th>INDPRO</th>\n",
              "    </tr>\n",
              "  </thead>\n",
              "  <tbody>\n",
              "    <tr>\n",
              "      <th>UNRATE</th>\n",
              "      <td>1.000000</td>\n",
              "      <td>-0.659552</td>\n",
              "      <td>-0.819508</td>\n",
              "    </tr>\n",
              "    <tr>\n",
              "      <th>FEDFUNDS</th>\n",
              "      <td>-0.659552</td>\n",
              "      <td>1.000000</td>\n",
              "      <td>0.785546</td>\n",
              "    </tr>\n",
              "    <tr>\n",
              "      <th>INDPRO</th>\n",
              "      <td>-0.819508</td>\n",
              "      <td>0.785546</td>\n",
              "      <td>1.000000</td>\n",
              "    </tr>\n",
              "  </tbody>\n",
              "</table>\n",
              "</div>"
            ],
            "text/plain": [
              "            UNRATE  FEDFUNDS    INDPRO\n",
              "UNRATE    1.000000 -0.659552 -0.819508\n",
              "FEDFUNDS -0.659552  1.000000  0.785546\n",
              "INDPRO   -0.819508  0.785546  1.000000"
            ]
          },
          "metadata": {
            "tags": []
          },
          "execution_count": 39
        }
      ]
    },
    {
      "cell_type": "code",
      "metadata": {
        "colab": {
          "base_uri": "https://localhost:8080/",
          "height": 142
        },
        "id": "xSkS-rXbj63f",
        "outputId": "3d631152-22ca-47b8-954f-51a90b260f66"
      },
      "source": [
        "data.cov()"
      ],
      "execution_count": 40,
      "outputs": [
        {
          "output_type": "execute_result",
          "data": {
            "text/html": [
              "<div>\n",
              "<style scoped>\n",
              "    .dataframe tbody tr th:only-of-type {\n",
              "        vertical-align: middle;\n",
              "    }\n",
              "\n",
              "    .dataframe tbody tr th {\n",
              "        vertical-align: top;\n",
              "    }\n",
              "\n",
              "    .dataframe thead th {\n",
              "        text-align: right;\n",
              "    }\n",
              "</style>\n",
              "<table border=\"1\" class=\"dataframe\">\n",
              "  <thead>\n",
              "    <tr style=\"text-align: right;\">\n",
              "      <th></th>\n",
              "      <th>UNRATE</th>\n",
              "      <th>FEDFUNDS</th>\n",
              "      <th>INDPRO</th>\n",
              "    </tr>\n",
              "  </thead>\n",
              "  <tbody>\n",
              "    <tr>\n",
              "      <th>UNRATE</th>\n",
              "      <td>5.336762</td>\n",
              "      <td>-1.266174</td>\n",
              "      <td>-7.642097</td>\n",
              "    </tr>\n",
              "    <tr>\n",
              "      <th>FEDFUNDS</th>\n",
              "      <td>-1.266174</td>\n",
              "      <td>0.690575</td>\n",
              "      <td>2.635104</td>\n",
              "    </tr>\n",
              "    <tr>\n",
              "      <th>INDPRO</th>\n",
              "      <td>-7.642097</td>\n",
              "      <td>2.635104</td>\n",
              "      <td>16.294509</td>\n",
              "    </tr>\n",
              "  </tbody>\n",
              "</table>\n",
              "</div>"
            ],
            "text/plain": [
              "            UNRATE  FEDFUNDS     INDPRO\n",
              "UNRATE    5.336762 -1.266174  -7.642097\n",
              "FEDFUNDS -1.266174  0.690575   2.635104\n",
              "INDPRO   -7.642097  2.635104  16.294509"
            ]
          },
          "metadata": {
            "tags": []
          },
          "execution_count": 40
        }
      ]
    },
    {
      "cell_type": "code",
      "metadata": {
        "colab": {
          "base_uri": "https://localhost:8080/"
        },
        "id": "N1rU0ooQ8swe",
        "outputId": "72285baf-d023-465d-bdbc-eed2f56792eb"
      },
      "source": [
        "import statsmodels.formula.api as smf"
      ],
      "execution_count": 41,
      "outputs": [
        {
          "output_type": "stream",
          "text": [
            "/usr/local/lib/python3.7/dist-packages/statsmodels/tools/_testing.py:19: FutureWarning: pandas.util.testing is deprecated. Use the functions in the public API at pandas.testing instead.\n",
            "  import pandas.util.testing as tm\n"
          ],
          "name": "stderr"
        }
      ]
    },
    {
      "cell_type": "code",
      "metadata": {
        "id": "5cb0abLOIRXG"
      },
      "source": [
        "reg1= 'INDPRO~UNRATE+FEDFUNDS'"
      ],
      "execution_count": 42,
      "outputs": []
    },
    {
      "cell_type": "code",
      "metadata": {
        "id": "r7-19JRkCaYt"
      },
      "source": [
        "regoutput = smf.ols(reg1,data).fit()"
      ],
      "execution_count": 44,
      "outputs": []
    },
    {
      "cell_type": "code",
      "metadata": {
        "colab": {
          "base_uri": "https://localhost:8080/"
        },
        "id": "l6C6s_ng9fJW",
        "outputId": "04d89b90-a115-4f58-838e-c6b2626d196a"
      },
      "source": [
        "print(regoutput.summary())"
      ],
      "execution_count": 45,
      "outputs": [
        {
          "output_type": "stream",
          "text": [
            "                            OLS Regression Results                            \n",
            "==============================================================================\n",
            "Dep. Variable:                 INDPRO   R-squared:                       0.778\n",
            "Model:                            OLS   Adj. R-squared:                  0.770\n",
            "Method:                 Least Squares   F-statistic:                     98.05\n",
            "Date:                Fri, 28 May 2021   Prob (F-statistic):           5.07e-19\n",
            "Time:                        15:33:28   Log-Likelihood:                -121.16\n",
            "No. Observations:                  59   AIC:                             248.3\n",
            "Df Residuals:                      56   BIC:                             254.6\n",
            "Df Model:                           2                                         \n",
            "Covariance Type:            nonrobust                                         \n",
            "==============================================================================\n",
            "                 coef    std err          t      P>|t|      [0.025      0.975]\n",
            "------------------------------------------------------------------------------\n",
            "Intercept    107.9613      1.135     95.129      0.000     105.688     110.235\n",
            "UNRATE        -0.9321      0.146     -6.367      0.000      -1.225      -0.639\n",
            "FEDFUNDS       2.1067      0.407      5.176      0.000       1.291       2.922\n",
            "==============================================================================\n",
            "Omnibus:                        2.086   Durbin-Watson:                   0.343\n",
            "Prob(Omnibus):                  0.352   Jarque-Bera (JB):                2.023\n",
            "Skew:                           0.388   Prob(JB):                        0.364\n",
            "Kurtosis:                       2.531   Cond. No.                         27.0\n",
            "==============================================================================\n",
            "\n",
            "Warnings:\n",
            "[1] Standard Errors assume that the covariance matrix of the errors is correctly specified.\n"
          ],
          "name": "stdout"
        }
      ]
    },
    {
      "cell_type": "code",
      "metadata": {
        "id": "zhBkgQzB9EIm"
      },
      "source": [
        "uhat = regoutput.resid"
      ],
      "execution_count": 46,
      "outputs": []
    },
    {
      "cell_type": "code",
      "metadata": {
        "colab": {
          "base_uri": "https://localhost:8080/",
          "height": 279
        },
        "id": "BsL9DrfN-EWM",
        "outputId": "2f2070f9-a47d-4401-eb22-17b720e90292"
      },
      "source": [
        "plt.plot(uhat)\n",
        "plt.xlabel('Date')\n",
        "plt.ylabel('Residual')\n",
        "plt.grid(True)\n",
        "plt.show()"
      ],
      "execution_count": 47,
      "outputs": [
        {
          "output_type": "display_data",
          "data": {
            "image/png": "[encoded data removed]",
            "text/plain": [
              "<Figure size 432x288 with 1 Axes>"
            ]
          },
          "metadata": {
            "tags": [],
            "needs_background": "light"
          }
        }
      ]
    },
    {
      "cell_type": "code",
      "metadata": {
        "id": "b_JrXR43CV0j"
      },
      "source": [
        "yhat = regoutput.fittedvalues"
      ],
      "execution_count": 48,
      "outputs": []
    },
    {
      "cell_type": "code",
      "metadata": {
        "colab": {
          "base_uri": "https://localhost:8080/",
          "height": 265
        },
        "id": "9TbIoCl6Ccz0",
        "outputId": "e8e3e713-d8b0-421a-c7ba-db88ebc0082f"
      },
      "source": [
        "plt.plot(yhat)\n",
        "plt.grid(True) "
      ],
      "execution_count": 49,
      "outputs": [
        {
          "output_type": "display_data",
          "data": {
            "image/png": "[encoded data removed]",
            "text/plain": [
              "<Figure size 432x288 with 1 Axes>"
            ]
          },
          "metadata": {
            "tags": [],
            "needs_background": "light"
          }
        }
      ]
    },
    {
      "cell_type": "code",
      "metadata": {
        "colab": {
          "base_uri": "https://localhost:8080/",
          "height": 279
        },
        "id": "byo3JDsKCigD",
        "outputId": "6a375855-7308-4174-df14-666fb81574ba"
      },
      "source": [
        "plt.plot(data.INDPRO, label = 'Actual INDPRO')\n",
        "plt.plot(yhat, label = 'Prodicted INDPRO')\n",
        "plt.xlabel('Date')\n",
        "plt.ylabel('Index')\n",
        "plt.grid(True) \n",
        "legend = plt.legend()\n",
        "plt.show()"
      ],
      "execution_count": 50,
      "outputs": [
        {
          "output_type": "display_data",
          "data": {
            "image/png": "[encoded data removed]",
            "text/plain": [
              "<Figure size 432x288 with 1 Axes>"
            ]
          },
          "metadata": {
            "tags": [],
            "needs_background": "light"
          }
        }
      ]
    },
    {
      "cell_type": "code",
      "metadata": {
        "id": "UQnMLYeYj5Ln"
      },
      "source": [
        ""
      ],
      "execution_count": null,
      "outputs": []
    }
  ]
}